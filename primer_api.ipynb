{
  "cells": [
    {
      "cell_type": "markdown",
      "metadata": {
        "id": "ATwWlMkyEP8z"
      },
      "source": [
        "## **API WHEATHER**\n",
        "\n",
        " Ofrece una variedad de datos y funcionalidades para obtener información sobre el clima y las condiciones meteorológicas de cualquier lugar."
      ]
    },
    {
      "cell_type": "code",
      "execution_count": null,
      "metadata": {
        "id": "5xbCn1sIEUuv"
      },
      "outputs": [],
      "source": [
        "import requests  # Biblioteca para realizar solicitudes HTTP\n",
        "import matplotlib.pyplot as plt\n",
        "\n",
        "# Función para obtener datos del clima desde WeatherAPI\n",
        "def obtener_clima(ciudad, api_key_weather): # conecta con la API de Weather Api para opbtener los datos climáticos de una ciudad específica\n",
        "    url_weather = f\"http://api.weatherapi.com/v1/current.json?key={api_key_weather}&q={ciudad}\" #Se construye URL dinámica, current.json para datos actuales, la clave de API (api_key_weather) y el parametro de busqueda (ciudad)\n",
        "    try: #solicitamos datos a la API\n",
        "        respuesta = requests.get(url_weather, timeout=10) #Hace una solicitud GET a la URL, limita el tiempo de espera 10seg\n",
        "        respuesta.raise_for_status() # Lanza una excepción si la respuesta indica un error\n",
        "        datos = respuesta.json() #Facilita el acceso convierte la respuesta JSON en un diccionario Python\n",
        "        # Extraer datos relevantes\n",
        "        clima = { #se construye diccionario clima con los datos relevantes como: Ciudad, país, temp °C, humedad%, velocidad viento km/h.\n",
        "            \"ciudad\": datos.get(\"location\", {}).get(\"name\"), #usando get() se extraen valores especificos\n",
        "            \"pais\": datos.get(\"location\", {}).get(\"country\"),\n",
        "            \"temperatura_c\": datos.get(\"current\", {}).get(\"temp_c\"),\n",
        "            \"humedad\": datos.get(\"current\", {}).get(\"humidity\"),\n",
        "            \"viento_kph\": datos.get(\"current\", {}).get(\"wind_kph\"),\n",
        "            \"descripcion\": datos.get(\"current\", {}).get(\"condition\", {}).get(\"text\") #descripcion textual de las condiciones actuales\n",
        "        }\n",
        "        return clima\n",
        "    except requests.exceptions.RequestException as e: #captura cualquier excepción generada durante la solicitud (error de conexion, tiempo de espera)\n",
        "        print(f\"Error al obtener el clima de {ciudad}: {e}\")\n",
        "        return None\n",
        "\n",
        "# Ejemplo de uso\n",
        "api_key_weather = \"e1d44396e7d44430887215118241812\"  # Reemplaza con tu clave de API\n",
        "ciudad = \"Lima\" #se especifica la ciudad\n",
        "clima = obtener_clima(ciudad, api_key_weather) #se llama la función y se guarda el resultado en clima.\n",
        "\n",
        "if clima: #si clima no es None imprime los datos climáticos.\n",
        "    print(\"Datos del clima:\")\n",
        "    print(f\"Ciudad: {clima['ciudad']}, País: {clima['pais']}\")\n",
        "    print(f\"Temperatura: {clima['temperatura_c']}°C\")\n",
        "    print(f\"Humedad: {clima['humedad']}%\")\n",
        "    print(f\"Viento: {clima['viento_kph']} km/h\")\n",
        "    print(f\"Condiciones: {clima['descripcion']}\")"
      ]
    },
    {
      "cell_type": "markdown",
      "metadata": {},
      "source": [
        "## **API KEY IQAIR**\n",
        "Esta API Ofrece información detallada sobre la calidad del aire (AQI) y contaminantes en diferentes ubicaciones del mundo.\n"
      ]
    },
    {
      "cell_type": "code",
      "execution_count": null,
      "metadata": {},
      "outputs": [],
      "source": [
        "import requests\n",
        "\n",
        "# Función para obtener datos de calidad del aire desde IQAir usando el nombre de una ciudad\n",
        "def obtener_calidad_aire_ciudad(ciudad, estado, pais, api_key_iqair): #Obtiene datos de calidad del aire de IQAir para una ciudad específica.\n",
        "    url_iqair = f\"https://api.airvisual.com/v2/city?city={ciudad}&state={estado}&country={pais}&key={api_key_iqair}\"\n",
        "    try:\n",
        "        respuesta = requests.get(url_iqair, timeout=10)  #solicita GET a la URL, limita el tiempo de espera 10seg\n",
        "        respuesta.raise_for_status() # Lanza una excepción si la respuesta indica un error\n",
        "        datos = respuesta.json() #Facilita el acceso convierte la respuesta JSON en un diccionario Python\n",
        "        # Extraer datos relevantes\n",
        "        calidad_aire = {\n",
        "            \"ciudad\": datos.get(\"data\", {}).get(\"city\"),\n",
        "            \"estado\": datos.get(\"data\", {}).get(\"state\"),\n",
        "            \"pais\": datos.get(\"data\", {}).get(\"country\"),\n",
        "            \"aqi_us\": datos.get(\"data\", {}).get(\"current\", {}).get(\"pollution\", {}).get(\"aqius\"),\n",
        "            \"principal_contaminante\": datos.get(\"data\", {}).get(\"current\", {}).get(\"pollution\", {}).get(\"mainus\"),\n",
        "            \"temperatura_c\": datos.get(\"data\", {}).get(\"current\", {}).get(\"weather\", {}).get(\"tp\"),\n",
        "            \"humedad\": datos.get(\"data\", {}).get(\"current\", {}).get(\"weather\", {}).get(\"hu\"),\n",
        "            \"velocidad_viento_m/s\": datos.get(\"data\", {}).get(\"current\", {}).get(\"weather\", {}).get(\"ws\")\n",
        "        }\n",
        "        return calidad_aire\n",
        "    except requests.exceptions.RequestException as e:\n",
        "        print(f\"Error al obtener la calidad del aire para {ciudad}, {estado}, {pais}: {e}\")\n",
        "        return None\n",
        "\n",
        "# Ejemplo de uso\n",
        "api_key_iqair = \"b79f3699-982d-4eb7-ac33-f15226399808\"  # Reemplaza con tu clave de API\n",
        "ciudad = \"Lima\"  # Ejemplo: ciudad\n",
        "estado = \"Lima\"  # Ejemplo: estado\n",
        "pais = \"Peru\"  # Ejemplo: país\n",
        "\n",
        "calidad_aire = obtener_calidad_aire_ciudad(ciudad, estado, pais, api_key_iqair)\n",
        "\n",
        "if calidad_aire:\n",
        "    print(\"Datos de calidad del aire:\")\n",
        "    print(f\"Ciudad: {calidad_aire['ciudad']}, Estado: {calidad_aire['estado']}, País: {calidad_aire['pais']}\")\n",
        "    print(f\"AQI (US): {calidad_aire['aqi_us']}\")\n",
        "    print(f\"Principal contaminante: {calidad_aire['principal_contaminante']}\")\n",
        "    print(f\"Temperatura: {calidad_aire['temperatura_c']}°C\")\n",
        "    print(f\"Humedad: {calidad_aire['humedad']}%\")\n",
        "    print(f\"Velocidad del viento: {calidad_aire['velocidad_viento_m/s']} m/s\")\n"
      ]
    }
  ],
  "metadata": {
    "colab": {
      "provenance": []
    },
    "kernelspec": {
      "display_name": "Python 3",
      "name": "python3"
    },
    "language_info": {
      "name": "python"
    }
  },
  "nbformat": 4,
  "nbformat_minor": 0
}
