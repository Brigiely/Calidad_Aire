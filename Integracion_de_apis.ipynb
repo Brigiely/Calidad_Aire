{
  "cells": [
    {
      "cell_type": "markdown",
      "metadata": {
        "id": "ATwWlMkyEP8z"
      },
      "source": [
        "## **Integración de APIS**"
      ]
    },
    {
      "cell_type": "code",
      "execution_count": null,
      "metadata": {
        "id": "5xbCn1sIEUuv"
      },
      "outputs": [],
      "source": [
        "import pandas as pd\n",
        "\n",
        "# Función para comparar ciudades según su clima y calidad del aire\n",
        "def comparar_ciudades(ciudades, api_key_iqair, api_key_weather):\n",
        "    datos_aire = []  # Lista para almacenar datos de calidad del aire\n",
        "    datos_clima = []  # Lista para almacenar datos del clima\n",
        "\n",
        "    # Obtener datos de calidad del aire para cada ciudad\n",
        "    for ciudad_info in ciudades:\n",
        "        # Llama a la función obtener_calidad_aire para cada ciudad en la lista\n",
        "        calidad_aire = obtener_calidad_aire(\n",
        "            ciudad_info['ciudad'],  # Nombre de la ciudad\n",
        "            ciudad_info['estado'],  # Nombre del estado\n",
        "            ciudad_info['pais'],    # Nombre del país\n",
        "            api_key_iqair           # Clave de acceso a la API IQAir\n",
        "        )\n",
        "        if calidad_aire:  # Verifica que los datos sean válidos\n",
        "            datos_aire.append(calidad_aire)  # Agrega los datos a la lista\n",
        "\n",
        "    # Obtener datos de clima para cada ciudad\n",
        "    for ciudad_info in ciudades:\n",
        "        # Llama a la función obtener_clima para cada ciudad en la lista\n",
        "        clima = obtener_clima(\n",
        "            ciudad_info['ciudad'],  # Nombre de la ciudad\n",
        "            api_key_weather         # Clave de acceso a la API WeatherAPI\n",
        "        )\n",
        "        if clima:  # Verifica que los datos sean válidos\n",
        "            datos_clima.append(clima)  # Agrega los datos a la lista\n",
        "\n",
        "    # Crear un DataFrame de Pandas con los datos de calidad del aire\n",
        "    df_aire = pd.DataFrame(datos_aire)  # Convierte la lista en un DataFrame\n",
        "\n",
        "    # Crear un DataFrame de Pandas con los datos del clima\n",
        "    df_clima = pd.DataFrame(datos_clima)  # Convierte la lista en un DataFrame\n",
        "\n",
        "    # Combinar los DataFrames por el nombre de la ciudad\n",
        "    comparacion_df = pd.merge(\n",
        "        df_aire,      # Primer DataFrame: calidad del aire\n",
        "        df_clima,     # Segundo DataFrame: datos del clima\n",
        "        on=\"ciudad\",  # Columna clave para combinar los DataFrames\n",
        "        how=\"inner\"   # Tipo de combinación: solo coincidencias en ambas tablas\n",
        "    )\n",
        "\n",
        "    return comparacion_df  # Devuelve el DataFrame combinado\n",
        "\n",
        "# Definir las ciudades que deseas analizar\n",
        "ciudades = [\n",
        "    {\"ciudad\": \"Piura\", \"estado\": \"Piura\", \"pais\": \"Peru\"},         # Información de Piura\n",
        "    {\"ciudad\": \"Lima\", \"estado\": \"Lima\", \"pais\": \"Peru\"},           # Información de Lima\n",
        "    {\"ciudad\": \"Arequipa\", \"estado\": \"Arequipa\", \"pais\": \"Peru\"},   # Información de Arequipa\n",
        "    {\"ciudad\": \"Trujillo\", \"estado\": \"La Libertad\", \"pais\": \"Peru\"} # Información de Trujillo\n",
        "]\n",
        "\n",
        "# Claves API\n",
        "api_key_iqair = \"88748538-fe54-4cf4-8ec8-6e0934fd13d0\"  # Clave para IQAir\n",
        "api_key_weather = \"e1d44396e7d44430887215118241812\"      # Clave para WeatherAPI\n",
        "\n",
        "# Comparar las ciudades y almacenar el resultado en un DataFrame\n",
        "comparacion = comparar_ciudades(ciudades, api_key_iqair, api_key_weather)\n",
        "\n",
        "# Imprimir el DataFrame con los resultados\n",
        "print(comparacion)"
      ]
    },
    {
      "cell_type": "markdown",
      "metadata": {},
      "source": [
        "## **Comparación con solo los datos relevantes**"
      ]
    },
    {
      "cell_type": "code",
      "execution_count": null,
      "metadata": {},
      "outputs": [],
      "source": [
        "# Mostrar la tabla de comparación con solo los datos relevantes\n",
        "print(\"\\nComparación de ciudades:\")  # Imprime un encabezado para la tabla de comparación\n",
        "# Muestra solo las columnas seleccionadas del DataFrame `comparacion`\n",
        "print(comparacion[['ciudad', 'aqi_us', 'temperatura_c_x', 'humedad_x', 'velocidad_viento_m/s']])\n",
        "\n",
        "# Determinar la mejor ciudad\n",
        "# `idxmin()` encuentra el índice de la fila con el valor mínimo en la columna 'aqi_us' (mejor calidad del aire)\n",
        "mejor_ciudad = comparacion.loc[comparacion['aqi_us'].idxmin()]\n",
        "\n",
        "# Imprime un mensaje indicando que se muestra la mejor ciudad\n",
        "mejor_ciudad = comparacion.loc[comparacion['aqi_us'].idxmin()]\n",
        "print(\"\\nLa mejor ciudad según los datos obtenidos es:\")\n",
        "print(f\"Ciudad: {mejor_ciudad['ciudad']}\")\n",
        "print(f\"Calidad del aire (AQI US): {mejor_ciudad['aqi_us']}\")\n",
        "print(f\"Temperatura: {mejor_ciudad['temperatura_c_x']}°C\")\n",
        "print(f\"Humedad: {mejor_ciudad['humedad_x']}%\")\n",
        "print(f\"Velocidad del viento: {mejor_ciudad['velocidad_viento_m/s']} m/s\")"
      ]
    }
  ],
  "metadata": {
    "colab": {
      "provenance": []
    },
    "kernelspec": {
      "display_name": "Python 3",
      "name": "python3"
    },
    "language_info": {
      "name": "python"
    }
  },
  "nbformat": 4,
  "nbformat_minor": 0
}
