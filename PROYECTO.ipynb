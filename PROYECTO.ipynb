{
 "cells": [
  {
   "cell_type": "markdown",
   "id": "NX183VXovZZ7",
   "metadata": {
    "id": "NX183VXovZZ7"
   },
   "source": [
    "## **API WHEATHER**\n",
    "\n",
    " Ofrece una variedad de datos y funcionalidades para obtener información sobre el clima y las condiciones meteorológicas de cualquier lugar."
   ]
  },
  {
   "cell_type": "code",
   "execution_count": null,
   "id": "b4kTm3k1vYMF",
   "metadata": {
    "colab": {
     "base_uri": "https://localhost:8080/"
    },
    "id": "b4kTm3k1vYMF",
    "outputId": "5c7aee6b-bc18-4f4b-e328-f838aa490ece"
   },
   "outputs": [
    {
     "name": "stdout",
     "output_type": "stream",
     "text": [
      "Datos del clima:\n",
      "Ciudad: Lima, País: Peru\n",
      "Temperatura: 20.1°C\n",
      "Humedad: 81%\n",
      "Viento: 14.0 km/h\n",
      "Condiciones: Partly Cloudy\n"
     ]
    }
   ],
   "source": [
    "import requests  # Biblioteca para realizar solicitudes HTTP\n",
    "import matplotlib.pyplot as plt\n",
    "\n",
    "# Función para obtener datos del clima desde WeatherAPI\n",
    "def obtener_clima(ciudad, api_key_weather): # conecta con la API de Weather Api para opbtener los datos climáticos de una ciudad específica\n",
    "    url_weather = f\"http://api.weatherapi.com/v1/current.json?key={api_key_weather}&q={ciudad}\" #Se construye URL dinámica, current.json para datos actuales, la clave de API (api_key_weather) y el parametro de busqueda (ciudad)\n",
    "    try: #solicitamos datos a la API\n",
    "        respuesta = requests.get(url_weather, timeout=10) #Hace una solicitud GET a la URL, limita el tiempo de espera 10seg\n",
    "        respuesta.raise_for_status() # Lanza una excepción si la respuesta indica un error\n",
    "        datos = respuesta.json() #Facilita el acceso convierte la respuesta JSON en un diccionario Python\n",
    "        # Extraer datos relevantes\n",
    "        clima = { #se construye diccionario clima con los datos relevantes como: Ciudad, país, temp °C, humedad%, velocidad viento km/h.\n",
    "            \"ciudad\": datos.get(\"location\", {}).get(\"name\"), #usando get() se extraen valores especificos\n",
    "            \"pais\": datos.get(\"location\", {}).get(\"country\"),\n",
    "            \"temperatura_c\": datos.get(\"current\", {}).get(\"temp_c\"),\n",
    "            \"humedad\": datos.get(\"current\", {}).get(\"humidity\"),\n",
    "            \"viento_kph\": datos.get(\"current\", {}).get(\"wind_kph\"),\n",
    "            \"descripcion\": datos.get(\"current\", {}).get(\"condition\", {}).get(\"text\") #descripcion textual de las condiciones actuales\n",
    "        }\n",
    "        return clima\n",
    "    except requests.exceptions.RequestException as e: #captura cualquier excepción generada durante la solicitud (error de conexion, tiempo de espera)\n",
    "        print(f\"Error al obtener el clima de {ciudad}: {e}\")\n",
    "        return None\n",
    "\n",
    "# Ejemplo de uso\n",
    "api_key_weather = \"e1d44396e7d44430887215118241812\"  # Reemplaza con tu clave de API\n",
    "ciudad = \"Lima\" #se especifica la ciudad\n",
    "clima = obtener_clima(ciudad, api_key_weather) #se llama la función y se guarda el resultado en clima.\n",
    "\n",
    "if clima: #si clima no es None imprime los datos climáticos.\n",
    "    print(\"Datos del clima:\")\n",
    "    print(f\"Ciudad: {clima['ciudad']}, País: {clima['pais']}\")\n",
    "    print(f\"Temperatura: {clima['temperatura_c']}°C\")\n",
    "    print(f\"Humedad: {clima['humedad']}%\")\n",
    "    print(f\"Viento: {clima['viento_kph']} km/h\")\n",
    "    print(f\"Condiciones: {clima['descripcion']}\")\n",
    "\n"
   ]
  },
  {
   "cell_type": "markdown",
   "id": "95ed7f83-13e7-4bfd-9f51-fda924f8cdcb",
   "metadata": {
    "id": "95ed7f83-13e7-4bfd-9f51-fda924f8cdcb"
   },
   "source": [
    "## **API KEY IQAIR**\n",
    "Esta API Ofrece información detallada sobre la calidad del aire (AQI) y contaminantes en diferentes ubicaciones del mundo.\n",
    "\n"
   ]
  },
  {
   "cell_type": "code",
   "execution_count": null,
   "id": "3WcRCRVzzBMb",
   "metadata": {
    "colab": {
     "base_uri": "https://localhost:8080/"
    },
    "id": "3WcRCRVzzBMb",
    "outputId": "bd91c358-d76f-44b5-e32f-e6cd4388557c"
   },
   "outputs": [
    {
     "name": "stdout",
     "output_type": "stream",
     "text": [
      "Datos de calidad del aire:\n",
      "Ciudad: Lima, Estado: Lima, País: Peru\n",
      "AQI (US): 54\n",
      "Principal contaminante: p2\n",
      "Temperatura: 21°C\n",
      "Humedad: 78%\n",
      "Velocidad del viento: 6.69 m/s\n"
     ]
    }
   ],
   "source": [
    "import requests\n",
    "\n",
    "# Función para obtener datos de calidad del aire desde IQAir usando el nombre de una ciudad\n",
    "def obtener_calidad_aire_ciudad(ciudad, estado, pais, api_key_iqair): #Obtiene datos de calidad del aire de IQAir para una ciudad específica.\n",
    "    url_iqair = f\"https://api.airvisual.com/v2/city?city={ciudad}&state={estado}&country={pais}&key={api_key_iqair}\"\n",
    "    try:\n",
    "        respuesta = requests.get(url_iqair, timeout=10)  #solicita GET a la URL, limita el tiempo de espera 10seg\n",
    "        respuesta.raise_for_status() # Lanza una excepción si la respuesta indica un error\n",
    "        datos = respuesta.json() #Facilita el acceso convierte la respuesta JSON en un diccionario Python\n",
    "        # Extraer datos relevantes\n",
    "        calidad_aire = {\n",
    "            \"ciudad\": datos.get(\"data\", {}).get(\"city\"),\n",
    "            \"estado\": datos.get(\"data\", {}).get(\"state\"),\n",
    "            \"pais\": datos.get(\"data\", {}).get(\"country\"),\n",
    "            \"aqi_us\": datos.get(\"data\", {}).get(\"current\", {}).get(\"pollution\", {}).get(\"aqius\"),\n",
    "            \"principal_contaminante\": datos.get(\"data\", {}).get(\"current\", {}).get(\"pollution\", {}).get(\"mainus\"),\n",
    "            \"temperatura_c\": datos.get(\"data\", {}).get(\"current\", {}).get(\"weather\", {}).get(\"tp\"),\n",
    "            \"humedad\": datos.get(\"data\", {}).get(\"current\", {}).get(\"weather\", {}).get(\"hu\"),\n",
    "            \"velocidad_viento_m/s\": datos.get(\"data\", {}).get(\"current\", {}).get(\"weather\", {}).get(\"ws\")\n",
    "        }\n",
    "        return calidad_aire\n",
    "    except requests.exceptions.RequestException as e:\n",
    "        print(f\"Error al obtener la calidad del aire para {ciudad}, {estado}, {pais}: {e}\")\n",
    "        return None\n",
    "\n",
    "# Ejemplo de uso\n",
    "api_key_iqair = \"b79f3699-982d-4eb7-ac33-f15226399808\"  # Reemplaza con tu clave de API\n",
    "ciudad = \"Lima\"  # Ejemplo: ciudad\n",
    "estado = \"Lima\"  # Ejemplo: estado\n",
    "pais = \"Peru\"  # Ejemplo: país\n",
    "\n",
    "calidad_aire = obtener_calidad_aire_ciudad(ciudad, estado, pais, api_key_iqair)\n",
    "\n",
    "if calidad_aire:\n",
    "    print(\"Datos de calidad del aire:\")\n",
    "    print(f\"Ciudad: {calidad_aire['ciudad']}, Estado: {calidad_aire['estado']}, País: {calidad_aire['pais']}\")\n",
    "    print(f\"AQI (US): {calidad_aire['aqi_us']}\")\n",
    "    print(f\"Principal contaminante: {calidad_aire['principal_contaminante']}\")\n",
    "    print(f\"Temperatura: {calidad_aire['temperatura_c']}°C\")\n",
    "    print(f\"Humedad: {calidad_aire['humedad']}%\")\n",
    "    print(f\"Velocidad del viento: {calidad_aire['velocidad_viento_m/s']} m/s\")\n"
   ]
  },
  {
   "cell_type": "markdown",
   "id": "kpV4n2HyxBPq",
   "metadata": {
    "id": "kpV4n2HyxBPq"
   },
   "source": [
    "## **Integración de APIS**"
   ]
  },
  {
   "cell_type": "code",
   "execution_count": null,
   "id": "EDSotZdunBdv",
   "metadata": {
    "colab": {
     "base_uri": "https://localhost:8080/"
    },
    "id": "EDSotZdunBdv",
    "outputId": "f9d942f3-09dd-4486-f340-e2baf3d55700"
   },
   "outputs": [
    {
     "name": "stdout",
     "output_type": "stream",
     "text": [
      "     ciudad       estado pais_x  aqi_us principal_contaminante  \\\n",
      "0     Piura        Piura   Peru      47                     p2   \n",
      "1      Lima         Lima   Peru      54                     p2   \n",
      "2  Arequipa     Arequipa   Peru      58                     p2   \n",
      "3  Trujillo  La Libertad   Peru      37                     p2   \n",
      "\n",
      "   temperatura_c_x  humedad_x  velocidad_viento_m/s pais_y  temperatura_c_y  \\\n",
      "0               22         66                  8.54   Peru             22.6   \n",
      "1               21         78                  6.69   Peru             20.1   \n",
      "2               16         63                  0.51   Peru             10.9   \n",
      "3               18         82                  5.66   Peru             18.7   \n",
      "\n",
      "   humedad_y  viento_kph    descripcion  \n",
      "0         67        30.2  Partly Cloudy  \n",
      "1         81        14.0  Partly Cloudy  \n",
      "2         68         4.3          Clear  \n",
      "3         86        10.1          Clear  \n"
     ]
    }
   ],
   "source": [
    "import pandas as pd\n",
    "\n",
    "# Función para comparar ciudades según su clima y calidad del aire\n",
    "def comparar_ciudades(ciudades, api_key_iqair, api_key_weather):\n",
    "    datos_aire = []  # Lista para almacenar datos de calidad del aire\n",
    "    datos_clima = []  # Lista para almacenar datos del clima\n",
    "\n",
    "    # Obtener datos de calidad del aire para cada ciudad\n",
    "    for ciudad_info in ciudades:\n",
    "        # Llama a la función obtener_calidad_aire para cada ciudad en la lista\n",
    "        calidad_aire = obtener_calidad_aire(\n",
    "            ciudad_info['ciudad'],  # Nombre de la ciudad\n",
    "            ciudad_info['estado'],  # Nombre del estado\n",
    "            ciudad_info['pais'],    # Nombre del país\n",
    "            api_key_iqair           # Clave de acceso a la API IQAir\n",
    "        )\n",
    "        if calidad_aire:  # Verifica que los datos sean válidos\n",
    "            datos_aire.append(calidad_aire)  # Agrega los datos a la lista\n",
    "\n",
    "    # Obtener datos de clima para cada ciudad\n",
    "    for ciudad_info in ciudades:\n",
    "        # Llama a la función obtener_clima para cada ciudad en la lista\n",
    "        clima = obtener_clima(\n",
    "            ciudad_info['ciudad'],  # Nombre de la ciudad\n",
    "            api_key_weather         # Clave de acceso a la API WeatherAPI\n",
    "        )\n",
    "        if clima:  # Verifica que los datos sean válidos\n",
    "            datos_clima.append(clima)  # Agrega los datos a la lista\n",
    "\n",
    "    # Crear un DataFrame de Pandas con los datos de calidad del aire\n",
    "    df_aire = pd.DataFrame(datos_aire)  # Convierte la lista en un DataFrame\n",
    "\n",
    "    # Crear un DataFrame de Pandas con los datos del clima\n",
    "    df_clima = pd.DataFrame(datos_clima)  # Convierte la lista en un DataFrame\n",
    "\n",
    "    # Combinar los DataFrames por el nombre de la ciudad\n",
    "    comparacion_df = pd.merge(\n",
    "        df_aire,      # Primer DataFrame: calidad del aire\n",
    "        df_clima,     # Segundo DataFrame: datos del clima\n",
    "        on=\"ciudad\",  # Columna clave para combinar los DataFrames\n",
    "        how=\"inner\"   # Tipo de combinación: solo coincidencias en ambas tablas\n",
    "    )\n",
    "\n",
    "    return comparacion_df  # Devuelve el DataFrame combinado\n",
    "\n",
    "# Definir las ciudades que deseas analizar\n",
    "ciudades = [\n",
    "    {\"ciudad\": \"Piura\", \"estado\": \"Piura\", \"pais\": \"Peru\"},         # Información de Piura\n",
    "    {\"ciudad\": \"Lima\", \"estado\": \"Lima\", \"pais\": \"Peru\"},           # Información de Lima\n",
    "    {\"ciudad\": \"Arequipa\", \"estado\": \"Arequipa\", \"pais\": \"Peru\"},   # Información de Arequipa\n",
    "    {\"ciudad\": \"Trujillo\", \"estado\": \"La Libertad\", \"pais\": \"Peru\"} # Información de Trujillo\n",
    "]\n",
    "\n",
    "# Claves API\n",
    "api_key_iqair = \"88748538-fe54-4cf4-8ec8-6e0934fd13d0\"  # Clave para IQAir\n",
    "api_key_weather = \"e1d44396e7d44430887215118241812\"      # Clave para WeatherAPI\n",
    "\n",
    "# Comparar las ciudades y almacenar el resultado en un DataFrame\n",
    "comparacion = comparar_ciudades(ciudades, api_key_iqair, api_key_weather)\n",
    "\n",
    "# Imprimir el DataFrame con los resultados\n",
    "print(comparacion)\n"
   ]
  },
  {
   "cell_type": "markdown",
   "id": "360ca976",
   "metadata": {},
   "source": [
    "## **Comparación con solo los datos relevantes**"
   ]
  },
  {
   "cell_type": "code",
   "execution_count": null,
   "id": "cae85d43",
   "metadata": {},
   "outputs": [],
   "source": [
    "\n",
    "# Mostrar la tabla de comparación con solo los datos relevantes\n",
    "print(\"\\nComparación de ciudades:\")  # Imprime un encabezado para la tabla de comparación\n",
    "# Muestra solo las columnas seleccionadas del DataFrame `comparacion`\n",
    "print(comparacion[['ciudad', 'aqi_us', 'temperatura_c_x', 'humedad_x', 'velocidad_viento_m/s']])\n",
    "\n",
    "# Determinar la mejor ciudad\n",
    "# `idxmin()` encuentra el índice de la fila con el valor mínimo en la columna 'aqi_us' (mejor calidad del aire)\n",
    "mejor_ciudad = comparacion.loc[comparacion['aqi_us'].idxmin()]\n",
    "\n",
    "# Imprime un mensaje indicando que se muestra la mejor ciudad\n",
    "mejor_ciudad = comparacion.loc[comparacion['aqi_us'].idxmin()]\n",
    "print(\"\\nLa mejor ciudad según los datos obtenidos es:\")\n",
    "print(f\"Ciudad: {mejor_ciudad['ciudad']}\")\n",
    "print(f\"Calidad del aire (AQI US): {mejor_ciudad['aqi_us']}\")\n",
    "print(f\"Temperatura: {mejor_ciudad['temperatura_c_x']}°C\")\n",
    "print(f\"Humedad: {mejor_ciudad['humedad_x']}%\")\n",
    "print(f\"Velocidad del viento: {mejor_ciudad['velocidad_viento_m/s']} m/s\")"
   ]
  },
  {
   "cell_type": "markdown",
   "id": "99f41781",
   "metadata": {},
   "source": [
    "# **Índice de habitabilidad basado en las métricas obtenidas y clasificar las ciudades en categorías**"
   ]
  },
  {
   "cell_type": "code",
   "execution_count": null,
   "metadata": {},
   "outputs": [],
   "source": [
    "import pandas as pd  # Importar la librería pandas para manejar datos en formato de tablas (dataframes)\n",
    "\n",
    "# Agregar una nueva columna al DataFrame para calcular el índice de habitabilidad\n",
    "def calcular_indice_habitabilidad(df):\n",
    "    # Normalizar las métricas para que todas tengan valores comparables\n",
    "\n",
    "    # Calcular un índice para la calidad del aire basado en el AQI (Air Quality Index). Invertimos el AQI para que valores más bajos (mejor calidad) tengan un puntaje más alto.\n",
    "    df['indice_calidad_aire'] = 100 - df['aqi_us']  # Invertir AQI, valores más bajos son mejores\n",
    "\n",
    "    # Calcular el índice de temperatura: Si está en el rango de 15-30°C, se considera ideal, de lo contrario se asigna un valor de 50.\n",
    "    df['indice_temperatura'] = df['temperatura_c_x'].apply(lambda x: 100 if 15 <= x <= 30 else 50)\n",
    "\n",
    "    # Calcular el índice de humedad: Si está en el rango de 30%-60%, se considera ideal, de lo contrario se asigna un valor de 50.\n",
    "    df['indice_humedad'] = df['humedad_x'].apply(lambda x: 100 if 30 <= x <= 60 else 50)\n",
    "\n",
    "    # Calcular el índice de viento: Si la velocidad del viento es mayor o igual a 2 m/s, se considera ideal, de lo contrario se asigna un valor de 50.\n",
    "    df['indice_viento'] = df['velocidad_viento_m/s'].apply(lambda x: 100 if x >= 2 else 50)\n",
    "\n",
    "    # Promediar los índices para obtener un índice general de habitabilidad\n",
    "    # El índice de habitabilidad es el promedio de los índices de calidad del aire, temperatura, humedad y viento.\n",
    "    df['indice_habitabilidad'] = (\n",
    "        df['indice_calidad_aire'] +  # Índice de calidad del aire\n",
    "        df['indice_temperatura'] +  # Índice de temperatura\n",
    "        df['indice_humedad'] +      # Índice de humedad\n",
    "        df['indice_viento']         # Índice de viento\n",
    "    ) / 4  # Promedio de los 4 índices\n",
    "\n",
    "    # Clasificar según umbrales\n",
    "    # Función que clasifica la habitabilidad en categorías de \"Alta Habitabilidad\", \"Moderada Habitabilidad\" y \"Baja Habitabilidad\"\n",
    "    def clasificar_habitabilidad(indice):\n",
    "        if indice >= 75:  # Si el índice es mayor o igual a 75, la ciudad tiene alta habitabilidad\n",
    "            return \"Alta Habitabilidad\"\n",
    "        elif indice >= 50:  # Si el índice es mayor o igual a 50, pero menor a 75, la ciudad tiene moderada habitabilidad\n",
    "            return \"Moderada Habitabilidad\"\n",
    "        else:  # Si el índice es menor a 50, la ciudad tiene baja habitabilidad\n",
    "            return \"Baja Habitabilidad\"\n",
    "\n",
    "    # Aplicamos la función de clasificación a la columna 'indice_habitabilidad' para crear una nueva columna 'categoria_habitabilidad'\n",
    "    df['categoria_habitabilidad'] = df['indice_habitabilidad'].apply(clasificar_habitabilidad)\n",
    "\n",
    "    return df  # Devolvemos el DataFrame con las nuevas columnas y categorías\n",
    "\n",
    "# Aplicar la función al DataFrame de comparación\n",
    "comparacion = calcular_indice_habitabilidad(comparacion)  # Calculamos el índice de habitabilidad para cada ciudad\n",
    "\n",
    "# Mostrar los resultados con las columnas relevantes\n",
    "print(\"\\nClasificación de habitabilidad de las ciudades:\")\n",
    "# Mostramos la ciudad, el índice de habitabilidad y la categoría de habitabilidad\n",
    "print(comparacion[['ciudad', 'indice_habitabilidad', 'categoria_habitabilidad']])\n",
    "\n",
    "# Identificar la ciudad con el índice de habitabilidad más alto (la mejor ciudad)\n",
    "ciudad_ideal = comparacion.loc[comparacion['indice_habitabilidad'].idxmax()]  # Encontramos la ciudad con el índice máximo\n",
    "print(\"\\nLa ciudad con mayor habitabilidad es:\")  # Mostramos el resultado\n",
    "print(f\"Ciudad: {ciudad_ideal['ciudad']}\")\n",
    "print(f\"Índice de Habitabilidad: {ciudad_ideal['indice_habitabilidad']:.2f}\")  # Mostramos el índice con dos decimales\n",
    "print(f\"Categoría: {ciudad_ideal['categoria_habitabilidad']}\")  # Mostramos la categoría de la ciudad ideal\n"
   ]
  },
  {
   "cell_type": "markdown",
   "id": "7cd3f9b1",
   "metadata": {},
   "source": [
    "Este proceso te permitirá comparar y clasificar las ciudades según su habitabilidad, priorizando la salud respiratoria en función de los datos climáticos y de calidad del aire obtenidos."
   ]
  },
  {
   "cell_type": "markdown",
   "id": "447c0b83",
   "metadata": {},
   "source": [
    "## **Evaluación de Riesgos para la salud**"
   ]
  },
  {
   "cell_type": "code",
   "execution_count": null,
   "id": "a27fed07",
   "metadata": {},
   "outputs": [],
   "source": [
    "import pandas as pd  # Importa la biblioteca pandas para manipular y analizar datos tabulares\n",
    "\n",
    "# Función para evaluar riesgos en base al AQI y condiciones climáticas extremas\n",
    "def evaluar_riesgos_salud(df):\n",
    "    \"\"\"\n",
    "    Esta función evalúa los riesgos para la salud de cada ciudad en función de la calidad del aire (AQI),\n",
    "    la temperatura y la humedad, clasificando el riesgo como alto, moderado o bajo.\n",
    "    \"\"\"\n",
    "\n",
    "    # Crear una nueva columna para evaluar el riesgo de calidad del aire según el AQI\n",
    "    def riesgo_calidad_aire(aqi):\n",
    "        \"\"\"\n",
    "        Evalúa el riesgo relacionado con la calidad del aire basándose en el AQI.\n",
    "        El AQI más alto indica un mayor riesgo para la salud.\n",
    "        \"\"\"\n",
    "        if aqi > 150:\n",
    "            return \"Riesgo alto de problemas respiratorios (población general)\"\n",
    "        elif aqi > 100:\n",
    "            return \"Riesgo moderado para personas sensibles\"\n",
    "        else:\n",
    "            return \"Riesgo bajo\"\n",
    "\n",
    "    # Crear una nueva columna para evaluar el riesgo por temperatura extrema\n",
    "    def riesgo_temperatura(temperatura):\n",
    "        \"\"\"\n",
    "        Evalúa el riesgo relacionado con temperaturas extremas.\n",
    "        Las temperaturas altas o bajas extremas representan riesgos para la salud.\n",
    "        \"\"\"\n",
    "        if temperatura > 35:\n",
    "            return \"Riesgo alto debido a calor extremo\"\n",
    "        elif temperatura < 0:\n",
    "            return \"Riesgo alto debido a frío extremo\"\n",
    "        else:\n",
    "            return \"Riesgo bajo\"\n",
    "\n",
    "    # Crear una nueva columna para evaluar el riesgo por humedad extrema\n",
    "    def riesgo_humedad(humedad):\n",
    "        \"\"\"\n",
    "        Evalúa el riesgo relacionado con niveles de humedad extremas.\n",
    "        La alta o baja humedad puede afectar la respiración y la salud en general.\n",
    "        \"\"\"\n",
    "        if humedad > 70:\n",
    "            return \"Riesgo alto por humedad excesiva\"\n",
    "        elif humedad < 20:\n",
    "            return \"Riesgo alto por baja humedad\"\n",
    "        else:\n",
    "            return \"Riesgo bajo\"\n",
    "\n",
    "    # Evaluar los riesgos para cada ciudad, asignando valores a las columnas\n",
    "    df['riesgo_aire'] = df['aqi_us'].apply(riesgo_calidad_aire)  # Se aplica la función de riesgo por aire al AQI de cada ciudad\n",
    "    df['riesgo_temperatura'] = df['temperatura_c_x'].apply(riesgo_temperatura)  # Se aplica la función de riesgo por temperatura a cada ciudad\n",
    "    df['riesgo_humedad'] = df['humedad_x'].apply(riesgo_humedad)  # Se aplica la función de riesgo por humedad a cada ciudad\n",
    "\n",
    "    # Función para calcular el riesgo global de la salud combinando los riesgos de aire, temperatura y humedad\n",
    "    def riesgo_global(row):\n",
    "        \"\"\"\n",
    "        Combina los riesgos por calidad del aire, temperatura y humedad para determinar el riesgo global.\n",
    "        Si cualquiera de los riesgos es alto, el riesgo global será alto.\n",
    "        \"\"\"\n",
    "        riesgos = [row['riesgo_aire'], row['riesgo_temperatura'], row['riesgo_humedad']]  # Lista de todos los riesgos de la ciudad\n",
    "        # Si cualquiera de los riesgos es alto, el riesgo global es alto. Si es moderado, el riesgo global es moderado.\n",
    "        if \"Riesgo alto\" in riesgos:\n",
    "            return \"Riesgo alto para la salud\"\n",
    "        elif \"Riesgo moderado\" in riesgos:\n",
    "            return \"Riesgo moderado para la salud\"\n",
    "        else:\n",
    "            return \"Riesgo bajo para la salud\"\n",
    "\n",
    "    # Crear una columna para el riesgo global\n",
    "    df['riesgo_global'] = df.apply(riesgo_global, axis=1)  # Aplica la función de riesgo global a cada fila del DataFrame\n",
    "\n",
    "    return df  # Devuelve el DataFrame con las nuevas columnas de riesgos\n",
    "\n",
    "# Aplicar la función a los datos obtenidos\n",
    "comparacion = evaluar_riesgos_salud(comparacion)  # Llama a la función y le pasa el DataFrame 'comparacion' con datos de ciudades\n",
    "\n",
    "# Mostrar los resultados con las evaluaciones de riesgos\n",
    "print(\"\\nEvaluación de riesgos para la salud en las ciudades:\")\n",
    "# Muestra una tabla con la ciudad y los distintos riesgos\n",
    "print(comparacion[['ciudad', 'riesgo_aire', 'riesgo_temperatura', 'riesgo_humedad', 'riesgo_global']])\n",
    "\n",
    "# Identificar la ciudad con el menor riesgo para la salud\n",
    "ciudad_sin_riesgo = comparacion.loc[comparacion['riesgo_global'] == \"Riesgo bajo para la salud\"]  # Filtra las ciudades con riesgo bajo\n",
    "print(\"\\nCiudades con el menor riesgo para la salud:\")\n",
    "# Itera a través de las ciudades con el menor riesgo y muestra los resultados\n",
    "for index, row in ciudad_sin_riesgo.iterrows():\n",
    "    print(f\"Ciudad: {row['ciudad']}\")  # Muestra el nombre de la ciudad\n",
    "    print(f\"Riesgo de aire: {row['riesgo_aire']}\")  # Muestra el riesgo asociado al aire\n",
    "    print(f\"Riesgo de temperatura: {row['riesgo_temperatura']}\")  # Muestra el riesgo asociado a la temperatura\n",
    "    print(f\"Riesgo de humedad: {row['riesgo_humedad']}\")  # Muestra el riesgo asociado a la humedad\n",
    "    print(f\"Riesgo global: {row['riesgo_global']}\")  # Muestra el riesgo global para la salud de la ciudad\n"
   ]
  },
  {
   "cell_type": "markdown",
   "id": "9fb4925f",
   "metadata": {},
   "source": [
    "Este enfoque permite evaluar los riesgos para la salud respiratoria en diversas ciudades del Perú en función de la calidad del aire y las condiciones climáticas extremas."
   ]
  }
 ],
 "metadata": {
  "colab": {
   "provenance": []
  },
  "kernelspec": {
   "display_name": "Python 3 (ipykernel)",
   "language": "python",
   "name": "python3"
  },
  "language_info": {
   "codemirror_mode": {
    "name": "ipython",
    "version": 3
   },
   "file_extension": ".py",
   "mimetype": "text/x-python",
   "name": "python",
   "nbconvert_exporter": "python",
   "pygments_lexer": "ipython3",
   "version": "3.13.1"
  }
 },
 "nbformat": 4,
 "nbformat_minor": 5
}
